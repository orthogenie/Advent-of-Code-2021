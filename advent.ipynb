{
 "cells": [
  {
   "cell_type": "markdown",
   "metadata": {},
   "source": [
    "# Advent of Code"
   ]
  },
  {
   "cell_type": "markdown",
   "metadata": {},
   "source": [
    "## Day 1: Sonar Sweep"
   ]
  },
  {
   "cell_type": "markdown",
   "metadata": {},
   "source": [
    "### Part 1"
   ]
  },
  {
   "cell_type": "code",
   "execution_count": 31,
   "metadata": {},
   "outputs": [
    {
     "name": "stdout",
     "output_type": "stream",
     "text": [
      "1266\n"
     ]
    }
   ],
   "source": [
    "# Read in data. I want INT\n",
    "data = open('input1.txt', 'r')\n",
    "mmts = []\n",
    "for line in data:\n",
    "    mmts.append(int(line[:-1]))\n",
    "data.close()\n",
    "\n",
    "# Initialise some variables\n",
    "nmmts = len(mmts)\n",
    "inc = 0\n",
    "\n",
    "\n",
    "for i in range(1, nmmts):\n",
    "    \n",
    "    # Compare depth with previous depth\n",
    "    if mmts[i] > mmts[i-1]:\n",
    "        inc += 1\n",
    "\n",
    "print(inc)"
   ]
  },
  {
   "cell_type": "markdown",
   "metadata": {},
   "source": [
    "### Part 2"
   ]
  },
  {
   "cell_type": "code",
   "execution_count": 32,
   "metadata": {},
   "outputs": [
    {
     "name": "stdout",
     "output_type": "stream",
     "text": [
      "1217\n"
     ]
    }
   ],
   "source": [
    "# Read in data. I want INT\n",
    "data = open('input1.txt', 'r')\n",
    "mmts = []\n",
    "for line in data:\n",
    "    mmts.append(int(line[:-1]))\n",
    "data.close()\n",
    "\n",
    "# Initialise some variables\n",
    "WINSZ = 3\n",
    "nmmts = len(mmts)\n",
    "inc = 0\n",
    "\n",
    "for a in range(WINSZ, nmmts):\n",
    "    \n",
    "    # Set up sliding windows\n",
    "    b = a - 1\n",
    "    WINA = mmts[a] + mmts[a-1] + mmts[a-2]\n",
    "    WINB = mmts[b] + mmts[b-1] + mmts[b-2]\n",
    "\n",
    "    # Compare\n",
    "    if WINA > WINB:\n",
    "        inc += 1\n",
    "\n",
    "print(inc)"
   ]
  },
  {
   "cell_type": "markdown",
   "metadata": {},
   "source": [
    "## Day 2: Dive!"
   ]
  },
  {
   "cell_type": "markdown",
   "metadata": {},
   "source": [
    "### Part 1"
   ]
  },
  {
   "cell_type": "code",
   "execution_count": 37,
   "metadata": {},
   "outputs": [
    {
     "name": "stdout",
     "output_type": "stream",
     "text": [
      "1635930\n"
     ]
    }
   ],
   "source": [
    "# Read in data. I want STR\n",
    "data = open('input2.txt', 'r')\n",
    "dir = []\n",
    "for line in data:\n",
    "    dir.append(line[:-1])\n",
    "data.close()\n",
    "\n",
    "# Initialise some variables\n",
    "ndir = len(dir)\n",
    "hpos = 0\n",
    "vpos = 0\n",
    "\n",
    "for i in range(ndir):\n",
    "    \n",
    "    val = int(dir[i][-1])\n",
    "    \n",
    "    # Execute commands\n",
    "    if dir[i][0] == 'f':\n",
    "        hpos += val\n",
    "    if dir[i][0] == 'd':\n",
    "        vpos += val\n",
    "    if dir[i][0] == 'u':\n",
    "        vpos -= val\n",
    "\n",
    "product = hpos * vpos\n",
    "\n",
    "print(product)"
   ]
  },
  {
   "cell_type": "markdown",
   "metadata": {},
   "source": [
    "### Part 2"
   ]
  },
  {
   "cell_type": "code",
   "execution_count": 38,
   "metadata": {},
   "outputs": [
    {
     "name": "stdout",
     "output_type": "stream",
     "text": [
      "1781819478\n"
     ]
    }
   ],
   "source": [
    "# Read in data. I want STR\n",
    "data = open('input2.txt', 'r')\n",
    "dir = []\n",
    "for line in data:\n",
    "    dir.append(line[:-1])\n",
    "data.close()\n",
    "\n",
    "# Initialise some variables\n",
    "ndir = len(dir)\n",
    "hpos = 0\n",
    "vpos = 0\n",
    "aim = 0\n",
    "\n",
    "for i in range(ndir):\n",
    "    \n",
    "    val = int(dir[i][-1])\n",
    "    \n",
    "    # Execute commands\n",
    "    if dir[i][0] == 'f':\n",
    "        hpos += val\n",
    "        vpos += aim * val\n",
    "    if dir[i][0] == 'd':\n",
    "        aim += val\n",
    "    if dir[i][0] == 'u':\n",
    "        aim -= val\n",
    "\n",
    "product = hpos * vpos\n",
    "\n",
    "print(product)"
   ]
  },
  {
   "cell_type": "markdown",
   "metadata": {},
   "source": [
    "## Day 3: Binary Diagnostic"
   ]
  },
  {
   "cell_type": "markdown",
   "metadata": {},
   "source": [
    "### Part 1"
   ]
  },
  {
   "cell_type": "code",
   "execution_count": 40,
   "metadata": {},
   "outputs": [
    {
     "name": "stdout",
     "output_type": "stream",
     "text": [
      "775304\n"
     ]
    }
   ],
   "source": [
    "# Read in data. I want STR\n",
    "data = open('input3.txt', 'r')\n",
    "binlist = []\n",
    "for line in data:\n",
    "    binlist.append(line[:-1])\n",
    "data.close()\n",
    "\n",
    "\n",
    "# Initialise some variables\n",
    "nbinl = len(binlist)     # Number of binary numbers\n",
    "nbit = len(binlist[0])  # Length of a bit\n",
    "\n",
    "INV = 111111111111  # Epsilon is the inverse of gamma\n",
    "\n",
    "\n",
    "# Helper function: find most common bit in a specific position\n",
    "def mostcommon(binlist, nbinlist, pos):\n",
    "    sum = 0\n",
    "\n",
    "    for b in binlist:\n",
    "        sum += int(b[pos])\n",
    "    \n",
    "    return int(sum > nbinlist//2)\n",
    "\n",
    "def invert(gamma):\n",
    "    num = INV - int(gamma)\n",
    "    return str(num).zfill(nbit)\n",
    "\n",
    "glist = []\n",
    "for n in range(nbit):\n",
    "    mcombit = str(mostcommon(binlist, nbinl, n))\n",
    "    glist.append(mcombit)\n",
    "\n",
    "gstr = ''.join(glist)\n",
    "estr = invert(gstr)\n",
    "\n",
    "gamma = int(gstr, 2)\n",
    "epsilon = int(estr, 2)\n",
    "\n",
    "power = gamma * epsilon\n",
    "\n",
    "print(power)\n"
   ]
  },
  {
   "cell_type": "markdown",
   "metadata": {},
   "source": [
    "### Part 2"
   ]
  },
  {
   "cell_type": "code",
   "execution_count": 59,
   "metadata": {},
   "outputs": [
    {
     "name": "stdout",
     "output_type": "stream",
     "text": [
      "1370737\n"
     ]
    }
   ],
   "source": [
    "# Read in data. I want STR\n",
    "data = open('input3.txt', 'r')\n",
    "binlist = []\n",
    "for line in data:\n",
    "    binlist.append(line[:-1])\n",
    "data.close()\n",
    "\n",
    "# Initialise some variables\n",
    "nbinlist = len(binlist)\n",
    "\n",
    "# Helper function: find most common bit in a specific position\n",
    "def mostcommon(list, nlist, pos):\n",
    "    sum = 0\n",
    "\n",
    "    for b in list:\n",
    "        sum += int(b[pos])\n",
    "    \n",
    "    return int(sum >= (nlist+1)//2)\n",
    "\n",
    "# Helper function: return refind list against criteria\n",
    "def criteria(list, pos, criteria):\n",
    "    newlist = []\n",
    "\n",
    "    for item in list:\n",
    "        if int(item[pos]) == criteria:\n",
    "            newlist.append(item)\n",
    "\n",
    "    return newlist\n",
    "\n",
    "# Helper function: find oxygen generator rating\n",
    "def oxy(list, nlist, pos):\n",
    "    if nlist == 1 or pos > 12:\n",
    "        return list\n",
    "\n",
    "    mostcom = mostcommon(list, nlist, pos)\n",
    "    list = criteria(list, pos, mostcom)\n",
    "    nlist = len(list)\n",
    "    pos += 1\n",
    "\n",
    "    return oxy(list, nlist, pos)\n",
    "\n",
    "# Helper function: find CO2 scrubber rating\n",
    "def co(list, nlist, pos):\n",
    "    if nlist == 1 or pos > 12:\n",
    "        return list\n",
    "\n",
    "    leastcom = 1 - mostcommon(list, nlist, pos)\n",
    "    list = criteria(list, pos, leastcom)\n",
    "    nlist = len(list)\n",
    "    pos += 1\n",
    "\n",
    "    return co(list, nlist, pos)\n",
    "\n",
    "oxylist = oxy(binlist, nbinlist, 0)\n",
    "colist = co(binlist, nbinlist, 0)\n",
    "\n",
    "oxyrating = int(oxylist[0], 2)\n",
    "corating = int(colist[0], 2)\n",
    "\n",
    "liferating = oxyrating * corating\n",
    "\n",
    "print(liferating)"
   ]
  }
 ],
 "metadata": {
  "interpreter": {
   "hash": "fc5e4b7b677f1ecffbd5c5a41d560062479ab8c1574f6ece3626a072bdbde5b5"
  },
  "kernelspec": {
   "display_name": "Python 3.8.5 64-bit ('base': conda)",
   "language": "python",
   "name": "python3"
  },
  "language_info": {
   "codemirror_mode": {
    "name": "ipython",
    "version": 3
   },
   "file_extension": ".py",
   "mimetype": "text/x-python",
   "name": "python",
   "nbconvert_exporter": "python",
   "pygments_lexer": "ipython3",
   "version": "3.8.5"
  },
  "orig_nbformat": 4
 },
 "nbformat": 4,
 "nbformat_minor": 2
}
